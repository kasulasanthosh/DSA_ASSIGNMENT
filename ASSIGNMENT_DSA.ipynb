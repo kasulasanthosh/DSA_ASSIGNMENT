{
 "cells": [
  {
   "cell_type": "code",
   "execution_count": 52,
   "id": "b16feeef-bb4a-4162-9123-38567a836906",
   "metadata": {},
   "outputs": [],
   "source": [
    "# Problem 1: Reverse a singly linked list.\n",
    "class Node:\n",
    "    def __init__(self,data=None,next=None):\n",
    "        self.data=data\n",
    "        self.next=next\n",
    "        self.head=None\n",
    "    #method to set the data value\n",
    "    def setData(self,data):\n",
    "        self.data=data\n",
    "    #method to get the data vale\n",
    "    def getData(self):\n",
    "        return self.data\n",
    "    #method of set the next\n",
    "    def setNext(self,next):\n",
    "        self.next=next\n",
    "    #method to get the next\n",
    "    def getNext(self):\n",
    "        return self.next"
   ]
  },
  {
   "cell_type": "code",
   "execution_count": 53,
   "id": "deb52d4a-8bd3-4383-bd52-241bb38db6bc",
   "metadata": {},
   "outputs": [
    {
     "name": "stdout",
     "output_type": "stream",
     "text": [
      "\n",
      " original linked list\n",
      "1->2->3->4->"
     ]
    }
   ],
   "source": [
    "head=Node(1)\n",
    "node2=Node(2)\n",
    "node3=Node(3)\n",
    "node4=Node(4)\n",
    "\n",
    "#Creating the linkage\n",
    "head.setNext(node2)\n",
    "node2.setNext(node3)\n",
    "node3.setNext(node4)\n",
    "\n",
    "def traverse(head):\n",
    "    temp=head\n",
    "    while(temp):\n",
    "        print(temp.getData(),end=\"->\")\n",
    "        temp=temp.getNext() #jump to the next node\n",
    "print(\"\\n original linked list\")\n",
    "traverse(head)\n"
   ]
  },
  {
   "cell_type": "code",
   "execution_count": 54,
   "id": "b917b861-bc41-4625-b797-513458e46977",
   "metadata": {},
   "outputs": [
    {
     "name": "stdout",
     "output_type": "stream",
     "text": [
      "\n",
      " reversed linked list\n",
      "4->3->2->1->"
     ]
    }
   ],
   "source": [
    "# Problem 1: Reverse a singly linked list.\n",
    "def reverse(head):\n",
    "    prev=None\n",
    "    current=head\n",
    "    while(current is not None):\n",
    "        next=current.next\n",
    "        current.next=prev\n",
    "        prev=current\n",
    "        current=next\n",
    "    head=prev\n",
    "    return head\n",
    "\n",
    "\n",
    "\n",
    "head=reverse(head)\n",
    "\n",
    "print(\"\\n reversed linked list\")\n",
    "traverse(head)"
   ]
  },
  {
   "cell_type": "code",
   "execution_count": 55,
   "id": "3a5631c8-48f3-4296-8b1f-00f86b86452b",
   "metadata": {},
   "outputs": [
    {
     "name": "stdout",
     "output_type": "stream",
     "text": [
      "\n",
      " original linked list1\n",
      "1->2->3->\n",
      " original linked list2\n",
      "3->5->"
     ]
    }
   ],
   "source": [
    "\n",
    "head1=Node(1)\n",
    "node2=Node(2)\n",
    "node3=Node(3)\n",
    "#Creating the linkage\n",
    "head1.setNext(node2)\n",
    "node2.setNext(node3)\n",
    "#create another linked list\n",
    "head2=Node(3)\n",
    "node2=Node(5)\n",
    "head2.setNext(node2)\n",
    "\n",
    "def traverse(head):\n",
    "    temp=head\n",
    "    while(temp):\n",
    "        print(temp.getData(),end=\"->\")\n",
    "        temp=temp.getNext() #jump to the next node\n",
    "print(\"\\n original linked list1\")\n",
    "traverse(head1)\n",
    "print(\"\\n original linked list2\")\n",
    "traverse(head2)"
   ]
  },
  {
   "cell_type": "code",
   "execution_count": 56,
   "id": "dce3c25b-60ad-4569-a838-601ffa7142ae",
   "metadata": {},
   "outputs": [
    {
     "name": "stdout",
     "output_type": "stream",
     "text": [
      "1->2->3->3->5->"
     ]
    }
   ],
   "source": [
    "#Problem 2: Merge two sorted linked lists into one sorted linked list.\n",
    "def mergeLinkedlist(head1,head2):\n",
    "    newNode=Node()\n",
    "    current=newNode\n",
    "    while head1 is not None and head2 is not None:\n",
    "        if head1.data<head2.data:\n",
    "            current.next=head1\n",
    "            head1=head1.next\n",
    "        else:\n",
    "            current.next=head2\n",
    "            head2=head2.next\n",
    "        current=current.next\n",
    "    if head1 is not None:\n",
    "        current.next=head1\n",
    "    else:\n",
    "        current.next=head2\n",
    "    return newNode.next\n",
    "result=mergeLinkedlist(head1,head2)\n",
    "while result:\n",
    "    print(result.data,end=\"->\")\n",
    "    result=result.next"
   ]
  },
  {
   "cell_type": "code",
   "execution_count": 60,
   "id": "d5b3eef6-823c-42fd-b820-f6c17476af05",
   "metadata": {},
   "outputs": [
    {
     "name": "stdout",
     "output_type": "stream",
     "text": [
      "removed node  4\n"
     ]
    }
   ],
   "source": [
    "#Problem 3: Remove the nth node from the end of a linked list.\n",
    "def removeNthnode(head,k):\n",
    "    temp=head\n",
    "    length=0\n",
    "    while(temp):\n",
    "        length+=1\n",
    "        temp=temp.getNext()\n",
    "    return length\n",
    "    \n",
    "    if k<0 or k>=length(head) or not head:\n",
    "        return head\n",
    "    if k==0:\n",
    "        head=head.getNext()\n",
    "    else:\n",
    "        i=0\n",
    "        prev= head\n",
    "        while(i<k-1):\n",
    "            prev=prev.getNext()\n",
    "            i+=1\n",
    "        prev.setNext(prev.getNext().getNext())\n",
    "    return head\n",
    "result=removeNthnode(head,2)\n",
    "print(\"removed node \",result)"
   ]
  },
  {
   "cell_type": "code",
   "execution_count": 65,
   "id": "9c66c62b-e83e-4848-9266-1bdb1055002f",
   "metadata": {},
   "outputs": [
    {
     "name": "stdout",
     "output_type": "stream",
     "text": [
      "intersection point two linked lists <__main__.Node object at 0x7ff2aa037e50>\n"
     ]
    }
   ],
   "source": [
    "# 4: Find the intersection point of two linked lists.\n",
    "def get_length(head):\n",
    "    length=0\n",
    "    while head:\n",
    "        length+=1\n",
    "        head=head.next\n",
    "    return length\n",
    "def intersectionPoint(head1,head2):\n",
    "    l1=get_length(head1)\n",
    "    l2=get_length(head2)\n",
    "    while l1>l2:\n",
    "        head1=head1.next\n",
    "        l1-=1\n",
    "    while l1<l2:\n",
    "        head2=head2.next\n",
    "        l2-=1\n",
    "    while head1!=head2:\n",
    "        head1=head1.next\n",
    "        head2=head2.next\n",
    "    return head1\n",
    "result=intersectionPoint(head1,head2)\n",
    "print(\"intersection point two linked lists\",result)\n"
   ]
  },
  {
   "cell_type": "code",
   "execution_count": 76,
   "id": "771d90c8-6faf-46fc-bd84-47a3c7c264e9",
   "metadata": {},
   "outputs": [
    {
     "name": "stdout",
     "output_type": "stream",
     "text": [
      "\n",
      " original linked list\n",
      "1->3->3->4->\n",
      "after removing dupliates\n",
      "1->3->4->"
     ]
    }
   ],
   "source": [
    "#Problem 5: Remove duplicates from a sorted linked list.\n",
    "head=Node(1)\n",
    "node2=Node(3)\n",
    "node3=Node(3)\n",
    "node4=Node(4)\n",
    "\n",
    "#Creating the linkage\n",
    "head.setNext(node2)\n",
    "node2.setNext(node3)\n",
    "node3.setNext(node4)\n",
    "\n",
    "def traverse(head):\n",
    "    temp=head\n",
    "    while(temp):\n",
    "        print(temp.getData(),end=\"->\")\n",
    "        temp=temp.getNext() #jump to the next node\n",
    "print(\"\\n original linked list\")\n",
    "traverse(head)\n",
    "\n",
    "def removeDuplicates(head):\n",
    "    current=head\n",
    "    while current is not None and current.next is not None:\n",
    "        if current.data==current.next.data:\n",
    "            current.next=current.next.next\n",
    "        else:\n",
    "            current=current.next\n",
    "    return head\n",
    "result=removeDuplicates(head)\n",
    "print(\"\\nafter removing dupliates\")\n",
    "while result:\n",
    "    print(result.data,end=\"->\")\n",
    "    result=result.next"
   ]
  },
  {
   "cell_type": "code",
   "execution_count": 103,
   "id": "14fde23b-6556-4eb4-b97a-ae082b6600b6",
   "metadata": {},
   "outputs": [
    {
     "name": "stdout",
     "output_type": "stream",
     "text": [
      "\n",
      " original linked list1\n",
      "1->2->3->\n",
      " original linked list2\n",
      "3->5->6->\n",
      " after two numbers\n",
      "4->7->9->"
     ]
    }
   ],
   "source": [
    "#Problem 6: Add two numbers represented by linked lists \n",
    "#(where each node contains a single digit).\n",
    "\n",
    "head1=Node(1)\n",
    "node2=Node(2)\n",
    "node3=Node(3)\n",
    "#Creating the linkage\n",
    "head1.setNext(node2)\n",
    "node2.setNext(node3)\n",
    "#create another linked list\n",
    "head2=Node(3)\n",
    "node2=Node(5)\n",
    "node3=Node(6)\n",
    "head2.setNext(node2)\n",
    "node2.setNext(node3)\n",
    "\n",
    "def traverse(head):\n",
    "    temp=head\n",
    "    while(temp):\n",
    "        print(temp.getData(),end=\"->\")\n",
    "        temp=temp.getNext() #jump to the next node\n",
    "print(\"\\n original linked list1\")\n",
    "traverse(head1)\n",
    "print(\"\\n original linked list2\")\n",
    "traverse(head2)\n",
    "def addTwonumbers(head1,head2):\n",
    "    dummy=Node()\n",
    "    current=dummy\n",
    "    carry=0\n",
    "    while head1 or head2 or carry:\n",
    "        v1=head1.data if head1 else 0\n",
    "        v2=head2.data if head2 else 0\n",
    "        total=v1+v2+carry\n",
    "        carry=total//10\n",
    "        current.next=Node(total%10)\n",
    "        if head1:\n",
    "            head1=head1.next\n",
    "        if head2:\n",
    "            head2=head2.next\n",
    "        current=current.next\n",
    "    return dummy.next\n",
    "\n",
    "result=addTwonumbers(head1,head2)\n",
    "print(\"\\n after two numbers\")\n",
    "while result:\n",
    "    print(result.data,end=\"->\")\n",
    "    result=result.next"
   ]
  },
  {
   "cell_type": "code",
   "execution_count": 102,
   "id": "05d2b7a2-0e36-49e3-b375-77926b8f7e8e",
   "metadata": {},
   "outputs": [
    {
     "name": "stdout",
     "output_type": "stream",
     "text": [
      "\n",
      " original linked list\n",
      "1->2->3->4->\n",
      "after swapping pair of nodes\n",
      "2->1->3->4->"
     ]
    }
   ],
   "source": [
    "#Problem 7: Swap nodes in pairs in a linked list.\n",
    "head=Node(1)\n",
    "node2=Node(2)\n",
    "node3=Node(3)\n",
    "node4=Node(4)\n",
    "\n",
    "#Creating the linkage\n",
    "head.setNext(node2)\n",
    "node2.setNext(node3)\n",
    "node3.setNext(node4)\n",
    "\n",
    "def traverse(head):\n",
    "    temp=head\n",
    "    while(temp):\n",
    "        print(temp.getData(),end=\"->\")\n",
    "        temp=temp.getNext() #jump to the next node\n",
    "print(\"\\n original linked list\")\n",
    "traverse(head)\n",
    "def swapNodesinpairs(head):\n",
    "    dummy=Node()\n",
    "    dummy.next=head\n",
    "    current=dummy\n",
    "    while current.next is not None and current.next.next is not None:\n",
    "        node1=current.next\n",
    "        node2=current.next.next\n",
    "        current.next=node2\n",
    "        node1.next=node2.next\n",
    "        node2.next=node1\n",
    "        current=node1\n",
    "        return dummy.next\n",
    "result=swapNodesinpairs(head)\n",
    "print(\"\\nafter swapping pair of nodes\")\n",
    "while result:\n",
    "    print(result.data,end=\"->\")\n",
    "    result=result.next\n",
    "        "
   ]
  },
  {
   "cell_type": "code",
   "execution_count": 93,
   "id": "b0ff619a-300f-4f68-a96e-40b3d6c58342",
   "metadata": {},
   "outputs": [
    {
     "name": "stdout",
     "output_type": "stream",
     "text": [
      "\n",
      " original linked list\n",
      "1->2->3->4->\n",
      " reverse nodes after group of k\n",
      "3 -> 2 -> 1 -> 4 -> "
     ]
    }
   ],
   "source": [
    "#4Problem 8: Reverse nodes in a linked list in groups of k.\n",
    "head=Node(1)\n",
    "node2=Node(2)\n",
    "node3=Node(3)\n",
    "node4=Node(4)\n",
    "\n",
    "#Creating the linkage\n",
    "head.setNext(node2)\n",
    "node2.setNext(node3)\n",
    "node3.setNext(node4)\n",
    "\n",
    "def traverse(head):\n",
    "    temp=head\n",
    "    while(temp):\n",
    "        print(temp.getData(),end=\"->\")\n",
    "        temp=temp.getNext() #jump to the next node\n",
    "print(\"\\n original linked list\")\n",
    "traverse(head)\n",
    "\n",
    "def reverseKgroups(head,k):\n",
    "    length=get_length(head)\n",
    "    if length<k:\n",
    "        return head\n",
    "    dummy = Node()\n",
    "    dummy.next = head\n",
    "    prev_group_end = dummy\n",
    "    current = head\n",
    "\n",
    "    for _ in range(length // k):\n",
    "        group_start = current\n",
    "        for _ in range(k - 1):\n",
    "            current = current.next\n",
    "\n",
    "        group_end = current.next\n",
    "        current.next = None  # Disconnect the current group\n",
    "\n",
    "        prev_group_end.next = reverse(group_start)\n",
    "        group_start.next = group_end\n",
    "\n",
    "        prev_group_end = group_start\n",
    "        current = group_end\n",
    "\n",
    "    return dummy.next\n",
    "result = reverseKgroups(head, 3)\n",
    "\n",
    "print(\"\\n reverse nodes after group of k\")\n",
    "while result:\n",
    "    print(result.data, end=\" -> \")\n",
    "    result = result.next"
   ]
  },
  {
   "cell_type": "code",
   "execution_count": 115,
   "id": "d8ef3000-80c7-4a47-be03-81d20a2566c2",
   "metadata": {},
   "outputs": [
    {
     "name": "stdout",
     "output_type": "stream",
     "text": [
      "\n",
      " original linked list\n",
      "1->2->2->1->\n",
      " True\n"
     ]
    }
   ],
   "source": [
    "#Problem 9: Determine if a linked list is a palindrome.\n",
    "head=Node(1)\n",
    "node2=Node(2)\n",
    "node3=Node(2)\n",
    "node4=Node(1)\n",
    "\n",
    "#Creating the linkage\n",
    "head.setNext(node2)\n",
    "node2.setNext(node3)\n",
    "node3.setNext(node4)\n",
    "\n",
    "def traverse(head):\n",
    "    temp=head\n",
    "    while(temp):\n",
    "        print(temp.getData(),end=\"->\")\n",
    "        temp=temp.getNext() #jump to the next node\n",
    "print(\"\\n original linked list\")\n",
    "traverse(head)\n",
    "def isPalindrome(head):\n",
    "    if not head or not head.next:\n",
    "        return True\n",
    "    def reverse(head):\n",
    "        prev=None\n",
    "        current=head\n",
    "        while(current is not None):\n",
    "            next=current.next\n",
    "            current.next=prev\n",
    "            prev=current\n",
    "            current=next\n",
    "        head=prev\n",
    "        return head\n",
    "    def find_middle(node):\n",
    "        slow = node\n",
    "        fast = node\n",
    "\n",
    "        while fast and fast.next:\n",
    "            slow = slow.next\n",
    "            fast = fast.next.next\n",
    "\n",
    "        return slow\n",
    "    middle = find_middle(head)\n",
    "\n",
    "    # Step 2: Reverse the second half of the linked list\n",
    "    reversed_half = reverse(middle)\n",
    "\n",
    "    # Step 3: Compare the first half with the reversed second half\n",
    "    while reversed_half:\n",
    "        if head.data != reversed_half.data:\n",
    "            return False\n",
    "        head = head.next\n",
    "        reversed_half = reversed_half.next\n",
    "\n",
    "        return True        \n",
    "result=isPalindrome(head)\n",
    "print(\"\\n\", result)"
   ]
  },
  {
   "cell_type": "code",
   "execution_count": 97,
   "id": "4505f775-104c-430d-b87f-f38ade156006",
   "metadata": {},
   "outputs": [
    {
     "name": "stdout",
     "output_type": "stream",
     "text": [
      "\n",
      " original linked list\n",
      "1->2->3->4->\n",
      " after rotating k places\n",
      "3 -> 4 -> 1 -> 2 -> "
     ]
    }
   ],
   "source": [
    "#Problem 10: Rotate a linked list to the right by k places.\n",
    "head=Node(1)\n",
    "node2=Node(2)\n",
    "node3=Node(3)\n",
    "node4=Node(4)\n",
    "\n",
    "#Creating the linkage\n",
    "head.setNext(node2)\n",
    "node2.setNext(node3)\n",
    "node3.setNext(node4)\n",
    "\n",
    "def traverse(head):\n",
    "    temp=head\n",
    "    while(temp):\n",
    "        print(temp.getData(),end=\"->\")\n",
    "        temp=temp.getNext() #jump to the next node\n",
    "print(\"\\n original linked list\")\n",
    "traverse(head)\n",
    "def rotateKplaces(head,k):\n",
    "    if not head or k==0:\n",
    "        return head\n",
    "    length=1\n",
    "    current=head\n",
    "    while current.next:\n",
    "        current=current.next\n",
    "        length+=1\n",
    "    k=k%length\n",
    "    if k==0:\n",
    "        return head\n",
    "    current=head\n",
    "    for i in range(length-k-1):\n",
    "        current=current.next\n",
    "    \n",
    "    new_head=current.next\n",
    "    current.next=None\n",
    "    current=new_head\n",
    "    while current.next:\n",
    "        current=current.next\n",
    "    current.next=head\n",
    "    return new_head\n",
    "result=rotateKplaces(head,2)\n",
    "print(\"\\n after rotating k places\")\n",
    "while result:\n",
    "    print(result.data, end=\" -> \")\n",
    "    result = result.next\n"
   ]
  },
  {
   "cell_type": "code",
   "execution_count": 118,
   "id": "6da2bafa-ded4-4ffe-9e12-5b7ee04942c3",
   "metadata": {},
   "outputs": [
    {
     "name": "stdout",
     "output_type": "stream",
     "text": [
      "1 <-> 2 <-> 3 <-> 4 <-> 5 <-> 7 <-> 8 <-> "
     ]
    }
   ],
   "source": [
    "#Problem 11: Flatten a multilevel doubly linked list.\n",
    "class Node:\n",
    "    def __init__(self, val, prev=None, next=None, child=None):\n",
    "        self.val = val\n",
    "        self.prev = prev\n",
    "        self.next = next\n",
    "        self.child = child\n",
    "\n",
    "def flatten_linked_list(head):\n",
    "    if not head:\n",
    "        return None\n",
    "\n",
    "    stack = []   \n",
    "    dummy = Node(0)  \n",
    "    current = dummy\n",
    "\n",
    "    stack.append(head)\n",
    "    while stack:\n",
    "        node = stack.pop()\n",
    "\n",
    "        if node.next:\n",
    "            stack.append(node.next)\n",
    "\n",
    "        if node.child:\n",
    "            stack.append(node.child)\n",
    "            node.child = None  # Remove the child pointer\n",
    "\n",
    "        # Connect the current node in the flattened list\n",
    "        current.next = node\n",
    "        node.prev = current\n",
    "        current = node\n",
    "\n",
    "    # Set the previous pointer of the first node to None\n",
    "    dummy.next.prev = None\n",
    "\n",
    "    return dummy.next\n",
    "\n",
    "#  1 <-> 2 <-> 3 <-> 7 <-> 8 <-> 11 <-> 12 <-> 9 <-> 4 <-> 5\n",
    "head = Node(1)\n",
    "head.next = Node(2)\n",
    "head.next.prev = head\n",
    "head.next.next = Node(3)\n",
    "head.next.next.prev = head.next\n",
    "head.next.next.next = Node(7)\n",
    "head.next.next.next.prev = head.next.next\n",
    "head.next.next.next.next = Node(8)\n",
    "head.next.next.next.next.prev = head.next.next.next\n",
    "head.next.next.child = Node(4)\n",
    "head.next.next.child.next = Node(5)\n",
    "head.next.next.child.next.prev = head.next.next.child\n",
    "\n",
    "# Flatten the multilevel doubly linked list\n",
    "result = flatten_linked_list(head)\n",
    "\n",
    "# Print the result: 1 <-> 2 <-> 3 <-> 4 <-> 5 <-> 7 <-> 8 <-> 11 <-> 12 <-> 9\n",
    "while result:\n",
    "    print(result.val, end=\" <-> \")\n",
    "    result = result.next\n"
   ]
  },
  {
   "cell_type": "code",
   "execution_count": 88,
   "id": "4edd7104-5a31-4833-91a4-744b8db336d7",
   "metadata": {},
   "outputs": [
    {
     "name": "stdout",
     "output_type": "stream",
     "text": [
      "\n",
      " original linked list\n",
      "1->2->3->4->\n",
      " rearrage linked list\n",
      "1->3->2->4->"
     ]
    }
   ],
   "source": [
    "#Problem 12: Rearrange a linked list such that all even positioned nodes are placed at the end.\n",
    "head=Node(1)\n",
    "node2=Node(2)\n",
    "node3=Node(3)\n",
    "node4=Node(4)\n",
    "\n",
    "#Creating the linkage\n",
    "head.setNext(node2)\n",
    "node2.setNext(node3)\n",
    "node3.setNext(node4)\n",
    "\n",
    "def traverse(head):\n",
    "    temp=head\n",
    "    while(temp):\n",
    "        print(temp.getData(),end=\"->\")\n",
    "        temp=temp.getNext() #jump to the next node\n",
    "print(\"\\n original linked list\")\n",
    "traverse(head)\n",
    "\n",
    "def rearrangeLinkedlist(head):\n",
    "    if not head or not head.next:\n",
    "        return head\n",
    "    odd_head=Node()\n",
    "    even_head=Node()\n",
    "    odd_c=odd_head\n",
    "    even_c=even_head\n",
    "    current=head\n",
    "    is_even=False\n",
    "    while current:\n",
    "        if is_even:\n",
    "            even_c.next=current\n",
    "            even_c=even_c.next\n",
    "        else:\n",
    "            odd_c.next=current\n",
    "            odd_c=odd_c.next\n",
    "        is_even=not is_even\n",
    "        current=current.next\n",
    "    odd_c.next=even_head.next\n",
    "    even_c.next=None\n",
    "    return odd_head.next\n",
    "result=rearrangeLinkedlist(head)\n",
    "print(\"\\n rearrage linked list\")\n",
    "while result:\n",
    "    print(result.data,end=\"->\")\n",
    "    result=result.next\n"
   ]
  },
  {
   "cell_type": "code",
   "execution_count": 85,
   "id": "fb661b2f-a7b4-4b81-b331-0200435c6682",
   "metadata": {},
   "outputs": [
    {
     "name": "stdout",
     "output_type": "stream",
     "text": [
      "original Linked list\n",
      "1->2->3->\n",
      " after adding carry the linked list is\n",
      "1->2->4->"
     ]
    }
   ],
   "source": [
    "#Problem 13: Given a non-negative number represented as a linked list, add one to it\n",
    "def addOnetoLinkedlist(head):\n",
    "    reverse_head=reverse(head)\n",
    "    current=reverse_head\n",
    "    carry =1\n",
    "    while current and carry:\n",
    "        total=current.data+carry\n",
    "        current.data=total%10\n",
    "        carry=total//10\n",
    "        current=current.next\n",
    "    result_head=reverse(reverse_head)\n",
    "    if carry:\n",
    "        result_head=Node(carry,result_head)\n",
    "    return result_head\n",
    "head=Node(1)\n",
    "node2=Node(2)\n",
    "node3=Node(3)\n",
    "\n",
    "#Creating the linkage\n",
    "head.setNext(node2)\n",
    "node2.setNext(node3)\n",
    "def traverse(head):\n",
    "    temp=head\n",
    "    while(temp):\n",
    "        print(temp.getData(),end=\"->\")\n",
    "        temp=temp.getNext()\n",
    "print(\"original Linked list\")\n",
    "traverse(head)\n",
    "print(\"\\n after adding carry the linked list is\")\n",
    "result=addOnetoLinkedlist(head)\n",
    "\n",
    "while result:\n",
    "    print(result.data,end=\"->\")\n",
    "    result=result.next"
   ]
  },
  {
   "cell_type": "code",
   "execution_count": null,
   "id": "a20aea53-5241-4877-9a5b-453ccf3717fb",
   "metadata": {},
   "outputs": [],
   "source": []
  },
  {
   "cell_type": "code",
   "execution_count": 69,
   "id": "e412ecc7-d439-43d6-8710-b43d0da995c4",
   "metadata": {},
   "outputs": [
    {
     "data": {
      "text/plain": [
       "-1"
      ]
     },
     "execution_count": 69,
     "metadata": {},
     "output_type": "execute_result"
    }
   ],
   "source": [
    "'''Problem 14: Given a sorted array and a target value, return the index if the target is found. If not, return the \n",
    "index where it would be inserted. Input: nums = [1, 3, 5, 6], target = 5  Output: 2'''\n",
    "def arrTarget(arr,traget):\n",
    "    left=0\n",
    "    right=len(arr)-1\n",
    "    #mid=(left+right)//2\n",
    "    while left<=right:\n",
    "        mid=int(left+(right-left)/2)\n",
    "        if arr[mid]==traget:\n",
    "            return mid\n",
    "        elif arr[mid]<target:\n",
    "            left=mid+1\n",
    "        else:\n",
    "            right=mid-1\n",
    "    #If the target is not found, -1 will be the index \n",
    "    return -1\n",
    "nums = [1, 3, 5, 6]\n",
    "target=5\n",
    "arrTarget(nums,target)"
   ]
  },
  {
   "cell_type": "code",
   "execution_count": 85,
   "id": "4431f3af-5fa4-40c2-8d25-ef867bfb47b2",
   "metadata": {},
   "outputs": [
    {
     "data": {
      "text/plain": [
       "0"
      ]
     },
     "execution_count": 85,
     "metadata": {},
     "output_type": "execute_result"
    }
   ],
   "source": [
    " # Problem 15: Find the minimum element in a rotated sorted array Input: [4, 5, 6, 7, 0, 1, 2]   Output: 0\n",
    "def minRotarray(arr):\n",
    "    left=0\n",
    "    right=len(arr)-1\n",
    "    while left<right:\n",
    "        mid=int(left+(right-left)/2)\n",
    "        if arr[mid]>arr[right]:\n",
    "            left=mid+1\n",
    "        else:\n",
    "            right=mid\n",
    "    return arr[left]\n",
    "arr=[4, 5, 6, 7, 0, 1, 2]\n",
    "minRotarray(arr)"
   ]
  },
  {
   "cell_type": "code",
   "execution_count": 92,
   "id": "befa28af-7b9d-448f-8c02-e18326841e83",
   "metadata": {},
   "outputs": [
    {
     "data": {
      "text/plain": [
       "3"
      ]
     },
     "execution_count": 92,
     "metadata": {},
     "output_type": "execute_result"
    }
   ],
   "source": [
    "# Problem 16: Search for a target value in a rotated sorted array. Input: nums = [4, 5, 6, 7, 0, 1, 2], target = 0 Output: 4\n",
    "def arrRotatedTarget(arr,traget):\n",
    "    left=0\n",
    "    right=len(arr)-1\n",
    "    #mid=(left+right)//2\n",
    "    while left<=right:\n",
    "        mid=int(left+(right-left)/2)\n",
    "        if arr[mid]==traget:\n",
    "            return mid\n",
    "        if arr[left]<=arr[mid]:\n",
    "            if arr[left]<=traget<arr[mid]:\n",
    "                right=mid-1\n",
    "            else:\n",
    "                 left=mid+1\n",
    "        else:\n",
    "            if arr[mid]<traget<=arr[right]:\n",
    "                left=mid+1\n",
    "            else:\n",
    "                right=mid-1\n",
    "    #If the target is not found, -1 will be the index \n",
    "    return -1\n",
    "nums = [4, 5, 6, 7, 0, 1, 2]\n",
    "nums1=[4,5,1,2]\n",
    "target = 2\n",
    "arrRotatedTarget(nums1,target)"
   ]
  },
  {
   "cell_type": "code",
   "execution_count": 96,
   "id": "2b827d24-3565-4213-b68a-cb1ede4de1c8",
   "metadata": {},
   "outputs": [
    {
     "data": {
      "text/plain": [
       "3"
      ]
     },
     "execution_count": 96,
     "metadata": {},
     "output_type": "execute_result"
    }
   ],
   "source": [
    "# Problem 17: Find the peak element in an array. A peak element is greater than its neighbors.Input: nums = [1, 2, 3, 1] Output: 2 (index of peak element)\n",
    "def peakElement(arr):\n",
    "    left=0\n",
    "    right=len(arr)-1\n",
    "    while left<right:\n",
    "        mid=int(left+(right-left)/2)\n",
    "        if arr[mid]<arr[mid+1]:\n",
    "            left=mid+1\n",
    "        else:\n",
    "            right=mid\n",
    "    return arr[left]\n",
    "nums = [1, 2, 3, 1]\n",
    "peakElement(nums)"
   ]
  },
  {
   "cell_type": "code",
   "execution_count": 127,
   "id": "d6350a94-1d8a-4720-922c-8091acb76272",
   "metadata": {},
   "outputs": [
    {
     "data": {
      "text/plain": [
       "8"
      ]
     },
     "execution_count": 127,
     "metadata": {},
     "output_type": "execute_result"
    }
   ],
   "source": [
    "'''Problem 18: Given a m x n matrix where each row and column is sorted in ascending order, count the number of negative numbers.\n",
    "Input: grid = [[4, 3, 2, -1], [3, 2, 1, -1], [1, 1, -1, -2], [-1, -1, -2, -3]]   Output:8 '''\n",
    "def countNegativenumbers(arr):\n",
    "    count=0\n",
    "    l=len(arr)\n",
    "    m=len(arr[0])\n",
    "    for i in range(l):\n",
    "        for j in range(m):\n",
    "            if arr[i][j]<0:\n",
    "                count+=1\n",
    "    return count\n",
    "grid = [[4, 3, 2, -1], [3, 2, 1, -1], [1, 1, -1, -2], [-1, -1, -2, -3]]\n",
    "countNegativenumbers(grid)"
   ]
  },
  {
   "cell_type": "code",
   "execution_count": 14,
   "id": "a9f1d2a8-ce3f-43c1-873b-fec607bc9ece",
   "metadata": {},
   "outputs": [
    {
     "data": {
      "text/plain": [
       "True"
      ]
     },
     "execution_count": 14,
     "metadata": {},
     "output_type": "execute_result"
    }
   ],
   "source": [
    "'''Problem 19: Given a 2D matrix sorted in ascending order in each row, and the first integer of each row is \n",
    "greater than the last integer of the previous row, determine if a target value is present in the matrix\n",
    "Input: matrix = [[1, 3, 5, 7], [10, 11, 16, 20], [23, 30, 34, 60]], target = 3     Output: True'''\n",
    "def twoDmatrix(matrix,target):\n",
    "    rows=len(matrix)\n",
    "    cols=len(matrix[0])\n",
    "    low=0\n",
    "    high=rows*cols-1\n",
    "    while low<=high:\n",
    "        mid=int(low+(high-low)/2)\n",
    "        mid_value=matrix[mid // cols][mid % cols]\n",
    "        if mid_value==target:\n",
    "            return True\n",
    "        elif mid_value<target:\n",
    "            low=mid+1\n",
    "        else:\n",
    "            high=mid-1\n",
    "    return False\n",
    "\n",
    "matrix = [[1, 3, 5, 7], [10, 11, 16, 20], [23, 30, 34, 60]]\n",
    "twoDmatrix(matrix,3)  \n",
    "\n"
   ]
  },
  {
   "cell_type": "code",
   "execution_count": 26,
   "id": "d23d18c2-63f3-4243-bc4c-d8ac93b626ef",
   "metadata": {},
   "outputs": [
    {
     "data": {
      "text/plain": [
       "2"
      ]
     },
     "execution_count": 26,
     "metadata": {},
     "output_type": "execute_result"
    }
   ],
   "source": [
    "#Problem 20:Given two sorted arrays, find the median of the combined sorted array Input: nums1 = [1, 3], nums2 = [2]   Output: 2.0\n",
    "def medianSortedArray(arr1,arr2):\n",
    "    merge=sorted(arr1+arr2)    \n",
    "    n=len(merge)\n",
    "    if n%2==0:\n",
    "        left_mid = merge[n // 2 - 1]\n",
    "        right_mid=merge[n//2]\n",
    "        return (left_mid+right_mid)/2\n",
    "    else:\n",
    "        return merge[n//2]\n",
    "nums1 = [1, 3]\n",
    "nums2 = [2]\n",
    "medianSortedArray(nums1,nums2) "
   ]
  },
  {
   "cell_type": "code",
   "execution_count": 28,
   "id": "633110d4-eb27-4601-a137-79426aa24c1a",
   "metadata": {},
   "outputs": [
    {
     "name": "stdout",
     "output_type": "stream",
     "text": [
      "c\n"
     ]
    }
   ],
   "source": [
    "'''Problem 21: Given a sorted character array and a target letter, find the smallest letter in the array that is \n",
    "greater than the target. Input: letters = ['c', 'f', 'j'], target = a  Output: 'c'''\n",
    "def sortedChar(letters,target):\n",
    "    left=0\n",
    "    right=len(letters)-1\n",
    "    if target>=letters[-1]:\n",
    "        return letters[0]\n",
    "    while left<=right:\n",
    "        #mid=left+(right-left)//2\n",
    "        mid=int(left+(right-left)/2)\n",
    "        if letters[mid]<=target:\n",
    "            left=mid+1\n",
    "        else:\n",
    "            right=mid-1\n",
    "    return letters[left]\n",
    "letters = ['c', 'f', 'j'] \n",
    "result=sortedChar(letters,'a')\n",
    "print(result)"
   ]
  },
  {
   "cell_type": "code",
   "execution_count": 1,
   "id": "8e5c3ebf-e316-438c-bebc-666b3328dd3b",
   "metadata": {},
   "outputs": [
    {
     "name": "stdout",
     "output_type": "stream",
     "text": [
      "sorted array [0, 0, 0, 1, 1, 2, 2]\n"
     ]
    }
   ],
   "source": [
    "'''Problem 22: Given an array with n objects colored red, white, or blue, sort them in-place so that objects of\n",
    "the same color are adjacent, with the colors in the order red, white, and blue.\n",
    "Input: nums = [2, 0, 2, 1, 1, 0]   Output: [0, 0, 1, 1, 2, 2]'''\n",
    "def sort_numbers(arr):\n",
    "    low, mid, high = 0, 0, len(arr) - 1\n",
    "\n",
    "    while mid <= high:\n",
    "        if arr[mid] == 0:\n",
    "            # Swap nums[low] and nums[mid], move both pointers to the right\n",
    "            arr[low], arr[mid] = arr[mid], arr[low]\n",
    "            low += 1\n",
    "            mid += 1\n",
    "        elif arr[mid] == 1:\n",
    "            # Move mid pointer to the right\n",
    "            mid += 1\n",
    "        else:\n",
    "            # Swap nums[mid] and nums[high], move high pointer to the left\n",
    "            arr[mid], arr[high] = arr[high], arr[mid]\n",
    "            high -= 1\n",
    "arr = [2, 0, 2, 1, 1, 0,0]\n",
    "sort_numbers(arr)\n",
    "print(\"sorted array\",arr)"
   ]
  },
  {
   "cell_type": "code",
   "execution_count": null,
   "id": "767bcab8-487c-4593-86f3-1e72104b5622",
   "metadata": {},
   "outputs": [],
   "source": [
    "# Problem 23: Find the kth largest element in an unsorted array Input: nums = [3, 2, 1, 5, 6, 4], k = 2   Output: 5\n",
    "def kthLargest(arr,k):\n",
    "    arr.sort()\n",
    "    \n",
    "    "
   ]
  },
  {
   "cell_type": "code",
   "execution_count": 4,
   "id": "750c7b57-90fd-45a7-a69d-a56afe648d57",
   "metadata": {},
   "outputs": [
    {
     "name": "stdout",
     "output_type": "stream",
     "text": [
      "[3, 5, 1, 6, 2, 4]\n"
     ]
    }
   ],
   "source": [
    "'''Problem 24: Given an unsorted array, reorder it in-place such that nums[0] <= nums[1] >= nums[2] <=nums[3]...\n",
    "Input: nums = [3, 5, 2, 1, 6, 4] Output: [3, 5, 1, 6, 2, 4]'''\n",
    "def sortInwave(arr):\n",
    "    for i in range(0,len(arr)-1,2):\n",
    "        if i>0 and arr[i]>arr[i-1]:\n",
    "            arr[i],arr[i-1]=arr[i-1],arr[i]\n",
    "        if i<len(arr)-1 and arr[i]>arr[i+1]:\n",
    "            arr[i],arr[i+1]=arr[i+1],arr[i]\n",
    "nums = [3, 5, 2, 1, 6, 4]\n",
    "sortInwave(nums)\n",
    "print(nums)"
   ]
  },
  {
   "cell_type": "code",
   "execution_count": 3,
   "id": "bf29497b-f41c-49bb-8b6e-bb0d51a4d0e3",
   "metadata": {},
   "outputs": [
    {
     "data": {
      "text/plain": [
       "15"
      ]
     },
     "execution_count": 3,
     "metadata": {},
     "output_type": "execute_result"
    }
   ],
   "source": [
    "# Problem 25: Given an array of integers, calculate the sum of all its elements. Input: [1, 2, 3, 4, 5] \n",
    "def sumArray(arr):\n",
    "    sum=0\n",
    "    for i in range(len(arr)):\n",
    "        sum=sum+arr[i]\n",
    "    return sum\n",
    "arr=[1, 2, 3, 4, 5]\n",
    "sumArray(arr)"
   ]
  },
  {
   "cell_type": "code",
   "execution_count": 189,
   "id": "f4b41777-58bf-4538-98c8-8686d98de693",
   "metadata": {},
   "outputs": [
    {
     "data": {
      "text/plain": [
       "9"
      ]
     },
     "execution_count": 189,
     "metadata": {},
     "output_type": "execute_result"
    }
   ],
   "source": [
    "# Problem 26: Find the maximum element in an array of integers Input: [3, 7, 2, 9, 4, 1] Output: 9\n",
    "def maxArray(arr):\n",
    "    max=arr[0]\n",
    "    for i in range(len(arr)-1):\n",
    "        if max<arr[i]:\n",
    "            max=arr[i]\n",
    "    return max\n",
    "arr=[3, 7, 2, 9, 4, 1]\n",
    "maxArray(arr)"
   ]
  },
  {
   "cell_type": "code",
   "execution_count": 196,
   "id": "e0f11309-913a-47c9-9e1d-9e5e7ce2d177",
   "metadata": {},
   "outputs": [
    {
     "data": {
      "text/plain": [
       "5"
      ]
     },
     "execution_count": 196,
     "metadata": {},
     "output_type": "execute_result"
    }
   ],
   "source": [
    "# Problem 27: Implement linear search to find the index of a target element in an array. Input: [5, 3, 8, 2, 7, 4], target = 8 Output: 2\n",
    "def indexOftagetArray(arr,target):\n",
    "    for i in range(len(arr)):\n",
    "        if arr[i]==target:\n",
    "            return i\n",
    "    return -1\n",
    "arr=[5, 3, 8, 2, 7, 4]\n",
    "indexOftagetArray(arr,4)\n",
    "            "
   ]
  },
  {
   "cell_type": "code",
   "execution_count": 188,
   "id": "38064a54-4474-4cde-90ed-93eb5c73ffd1",
   "metadata": {},
   "outputs": [
    {
     "data": {
      "text/plain": [
       "120"
      ]
     },
     "execution_count": 188,
     "metadata": {},
     "output_type": "execute_result"
    }
   ],
   "source": [
    "# Problem 28 Calculate the factorial of a given number Input: 5\n",
    "def factorialOfnum(n):\n",
    "    if n==1 or n==0:\n",
    "        return 1\n",
    "    return n*factorialOfnum(n-1)\n",
    "factorialOfnum(5)"
   ]
  },
  {
   "cell_type": "code",
   "execution_count": 180,
   "id": "9221b7b4-31c9-41d2-9857-6b603a68fd1b",
   "metadata": {},
   "outputs": [
    {
     "data": {
      "text/plain": [
       "False"
      ]
     },
     "execution_count": 180,
     "metadata": {},
     "output_type": "execute_result"
    }
   ],
   "source": [
    "# Problem 29: Check if a given number is a prime number Input: 7 \n",
    "def primeNumber(n):\n",
    "    if n<2:\n",
    "        return False\n",
    "    for i in range(2,int(n**0.5)+1):\n",
    "        if n%i==0:\n",
    "            return False\n",
    "    return True\n",
    "primeNumber(15)\n"
   ]
  },
  {
   "cell_type": "code",
   "execution_count": 172,
   "id": "8ad58ae7-dd41-4854-9e12-7ecf6d013aca",
   "metadata": {},
   "outputs": [
    {
     "data": {
      "text/plain": [
       "[0, 1, 1, 2, 3, 5, 8, 13]"
      ]
     },
     "execution_count": 172,
     "metadata": {},
     "output_type": "execute_result"
    }
   ],
   "source": [
    "#Problem 30: Generate the Fibonacci series up to a given number n. Input: 8 Output: [0, 1, 1, 2, 3, 5, 8, 13]\n",
    "def Fibonacci(n):\n",
    "    fib=[0,1]\n",
    "    while len(fib)<n:\n",
    "        next_fib = fib[-1] + fib[-2]\n",
    "        fib.append(next_fib)\n",
    "    return fib\n",
    "Fibonacci(8)"
   ]
  },
  {
   "cell_type": "code",
   "execution_count": 170,
   "id": "42562ce2-5c38-4bdf-8284-cac9e5e0b97c",
   "metadata": {},
   "outputs": [
    {
     "data": {
      "text/plain": [
       "81"
      ]
     },
     "execution_count": 170,
     "metadata": {},
     "output_type": "execute_result"
    }
   ],
   "source": [
    "# Problem 31: Calculate the power of a number using recursion Input: base = 3, exponent = 4  Output: 81 (as 3^4 = 3 * 3 * 3 * 3 = 81\n",
    "def powerOfnumber(base,expo):\n",
    "    if expo==0:\n",
    "        return 1\n",
    "    return base*powerOfnumber(base,expo-1)\n",
    "powerOfnumber(3,4)"
   ]
  },
  {
   "cell_type": "code",
   "execution_count": 147,
   "id": "c996cf42-cd88-4fd8-987f-2a0fa09354f6",
   "metadata": {},
   "outputs": [
    {
     "data": {
      "text/plain": [
       "'olleh'"
      ]
     },
     "execution_count": 147,
     "metadata": {},
     "output_type": "execute_result"
    }
   ],
   "source": [
    "#Problem 32: Reverse a given string.  Input: \"hello\"   Output: \"olleh\"\n",
    "def reverseString(s):\n",
    "    return s[::-1]\n",
    "s=\"hello\"\n",
    "reverseString(s)"
   ]
  }
 ],
 "metadata": {
  "kernelspec": {
   "display_name": "Python 3 (ipykernel)",
   "language": "python",
   "name": "python3"
  },
  "language_info": {
   "codemirror_mode": {
    "name": "ipython",
    "version": 3
   },
   "file_extension": ".py",
   "mimetype": "text/x-python",
   "name": "python",
   "nbconvert_exporter": "python",
   "pygments_lexer": "ipython3",
   "version": "3.10.8"
  }
 },
 "nbformat": 4,
 "nbformat_minor": 5
}
